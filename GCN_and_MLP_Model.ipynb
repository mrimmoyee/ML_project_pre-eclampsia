{
  "nbformat": 4,
  "nbformat_minor": 0,
  "metadata": {
    "colab": {
      "provenance": []
    },
    "kernelspec": {
      "name": "python3",
      "display_name": "Python 3"
    },
    "language_info": {
      "name": "python"
    }
  },
  "cells": [
    {
      "cell_type": "markdown",
      "source": [
        "# Section 1: Import Libraries"
      ],
      "metadata": {
        "id": "Drp1sm9_820s"
      }
    },
    {
      "cell_type": "code",
      "execution_count": 1,
      "metadata": {
        "id": "jsSCBMVX8igS"
      },
      "outputs": [],
      "source": [
        "import pandas as pd\n",
        "import numpy as np\n",
        "import networkx as nx\n",
        "from sklearn.preprocessing import MinMaxScaler\n",
        "from sklearn.metrics.pairwise import euclidean_distances\n",
        "from sklearn.impute import SimpleImputer\n",
        "from sklearn.model_selection import StratifiedKFold\n",
        "from sklearn.metrics import accuracy_score, roc_auc_score, classification_report\n",
        "import torch\n",
        "import torch.nn as nn\n",
        "import torch.nn.functional as F\n",
        "from torch.optim import Adam\n",
        "import matplotlib.pyplot as plt\n",
        "from sklearn.manifold import TSNE\n",
        "import shap"
      ]
    },
    {
      "cell_type": "markdown",
      "source": [
        "# Section 2: Data **Loading**"
      ],
      "metadata": {
        "id": "HYYziK6l9P4Z"
      }
    },
    {
      "cell_type": "code",
      "source": [
        "maternal = pd.read_csv('/content/maternal_health_risk.csv')\n",
        "pree = pd.read_csv('/content/preeclampsia.csv')"
      ],
      "metadata": {
        "id": "-VzU2H5N9cR6"
      },
      "execution_count": 3,
      "outputs": []
    },
    {
      "cell_type": "markdown",
      "source": [
        "# Section 3: Preprocessing\n",
        "Cleaning and preparing data."
      ],
      "metadata": {
        "id": "3ZgWPy9A-FJQ"
      }
    },
    {
      "cell_type": "code",
      "source": [
        "maternal['domain'] = 0\n",
        "pree['domain'] = 1\n",
        "maternal.rename(columns={'Age': 'age', 'SystolicBP': 'sysbp', 'DiastolicBP': 'diabp'}, inplace=True)\n",
        "combined = pd.concat([maternal, pree], axis=0, ignore_index=True)\n",
        "\n",
        "combined['target'] = np.where(combined['RiskLevel'] == 'high risk', 1, 0)\n",
        "combined['target'] = combined['target'].fillna(combined['htn'].fillna(0))\n",
        "\n",
        "features = ['age', 'sysbp', 'diabp', 'BS', 'BodyTemp', 'HeartRate', 'bmi', 'plgf:sflt', 'SEng']\n",
        "X = combined[features].copy()\n",
        "imputer = SimpleImputer(strategy='median')\n",
        "X = pd.DataFrame(imputer.fit_transform(X), columns=features)\n",
        "scaler = MinMaxScaler()\n",
        "X_scaled = scaler.fit_transform(X)"
      ],
      "metadata": {
        "id": "IDFKzIxn-NiT"
      },
      "execution_count": 4,
      "outputs": []
    },
    {
      "cell_type": "markdown",
      "source": [
        "# Section 4: Graph **Construction**"
      ],
      "metadata": {
        "id": "iw7H3kcC-ShT"
      }
    },
    {
      "cell_type": "code",
      "source": [
        "G = nx.Graph()\n",
        "for i in range(len(X_scaled)):\n",
        "    G.add_node(i, features=X_scaled[i])\n",
        "\n",
        "dist_matrix = euclidean_distances(X_scaled)\n",
        "threshold = 0.3\n",
        "for i in range(len(X_scaled)):\n",
        "    for j in range(i + 1, len(X_scaled)):\n",
        "        if dist_matrix[i][j] < threshold:\n",
        "            G.add_edge(i, j, weight=1 - dist_matrix[i][j])\n",
        "\n",
        "adj = nx.to_numpy_array(G)\n",
        "adj_tensor = torch.tensor(adj, dtype=torch.float)\n",
        "node_feats = torch.tensor(X_scaled, dtype=torch.float)\n",
        "labels = torch.tensor(combined['target'].values, dtype=torch.float).unsqueeze(1)\n",
        "domains = torch.tensor(combined['domain'].values, dtype=torch.float).unsqueeze(1)"
      ],
      "metadata": {
        "id": "tgzcFdbR-dOx"
      },
      "execution_count": 5,
      "outputs": []
    },
    {
      "cell_type": "markdown",
      "source": [
        "#Section 5: 5-fold CV"
      ],
      "metadata": {
        "id": "BrwaHWiU-j1C"
      }
    },
    {
      "cell_type": "code",
      "source": [
        "cv = StratifiedKFold(n_splits=5, shuffle=True, random_state=42)\n",
        "train_idx_all, test_idx_all = next(cv.split(node_feats, labels.numpy()))"
      ],
      "metadata": {
        "id": "lUdImO6a-omS"
      },
      "execution_count": 6,
      "outputs": []
    },
    {
      "cell_type": "markdown",
      "source": [
        "#Section 6: Updated GCN with Reconstruction Layer"
      ],
      "metadata": {
        "id": "15lyCpjU-sce"
      }
    },
    {
      "cell_type": "code",
      "source": [
        "class UpdatedGCN(nn.Module):\n",
        "    def __init__(self, in_features, hidden=64, embed_size=32, dropout_rate=0.5):\n",
        "        super().__init__()\n",
        "        self.gcn1 = nn.Linear(in_features, hidden)\n",
        "        self.gcn2 = nn.Linear(hidden, embed_size)\n",
        "        self.recon_layer = nn.Linear(embed_size, in_features)\n",
        "        self.domain_classifier = nn.Linear(embed_size, 1)\n",
        "        self.dropout = nn.Dropout(dropout_rate)\n",
        "\n",
        "    def forward(self, X, adj):\n",
        "        adj_norm = adj + torch.eye(adj.size(0))\n",
        "        degree = torch.sum(adj_norm, dim=1).clamp(min=1)\n",
        "        adj_norm = adj_norm / degree.unsqueeze(1)\n",
        "        emb = F.relu(self.gcn1(adj_norm @ X))\n",
        "        emb = self.dropout(emb)\n",
        "        emb = F.relu(self.gcn2(adj_norm @ emb))\n",
        "        recon = self.recon_layer(emb)\n",
        "        return emb, recon\n",
        "\n",
        "    def domain_forward(self, emb):\n",
        "        return torch.sigmoid(self.domain_classifier(emb))\n",
        "\n",
        "gnn_model = UpdatedGCN(in_features=node_feats.shape[1])\n",
        "optimizer = Adam(gnn_model.parameters(), lr=0.01)\n",
        "recon_criterion = nn.MSELoss()\n",
        "domain_criterion = nn.BCELoss()\n",
        "best_loss = float('inf')\n",
        "patience = 10\n",
        "counter = 0"
      ],
      "metadata": {
        "id": "0DG-qM83-xMW"
      },
      "execution_count": 7,
      "outputs": []
    },
    {
      "cell_type": "markdown",
      "source": [
        "# Federated Training"
      ],
      "metadata": {
        "id": "6PHlPEm2-6D5"
      }
    },
    {
      "cell_type": "code",
      "source": [
        "maternal_idx = combined[combined['domain'] == 0].index\n",
        "pree_idx = combined[combined['domain'] == 1].index\n",
        "clients = [maternal_idx, pree_idx]\n",
        "local_models = [UpdatedGCN(in_features=node_feats.shape[1]) for _ in clients]\n",
        "\n",
        "for epoch in range(100):\n",
        "    total_loss = 0\n",
        "    for i, client_idx in enumerate(clients):\n",
        "        local_model = local_models[i]\n",
        "        local_model.train()\n",
        "        optimizer.zero_grad()\n",
        "        emb, recon = local_model(node_feats[client_idx], adj_tensor[client_idx][:, client_idx])\n",
        "        recon_loss = recon_criterion(recon, node_feats[client_idx])\n",
        "        domain_pred = local_model.domain_forward(emb)\n",
        "        domain_loss = domain_criterion(domain_pred, domains[client_idx])\n",
        "        loss = recon_loss + 0.5 * domain_loss\n",
        "        loss.backward()\n",
        "        optimizer.step()\n",
        "        total_loss += loss.item()\n",
        "\n",
        "    with torch.no_grad():\n",
        "        for param, *local_params in zip(gnn_model.parameters(), *[m.parameters() for m in local_models]):\n",
        "            param.data = sum(p.data for p in local_params) / len(local_models)\n",
        "\n",
        "    gnn_model.eval()\n",
        "    with torch.no_grad():\n",
        "        val_emb, val_recon = gnn_model(node_feats[test_idx_all], adj_tensor[test_idx_all][:, test_idx_all])\n",
        "        val_loss = recon_criterion(val_recon, node_feats[test_idx_all])\n",
        "    if val_loss < best_loss:\n",
        "        best_loss = val_loss\n",
        "        counter = 0\n",
        "    else:\n",
        "        counter += 1\n",
        "        if counter >= patience:\n",
        "            break\n",
        "    if epoch % 10 == 0:\n",
        "        print(f\"Epoch {epoch}: Val Loss {val_loss:.4f}\")"
      ],
      "metadata": {
        "colab": {
          "base_uri": "https://localhost:8080/"
        },
        "id": "ZV6SftMd--8I",
        "outputId": "6674ff89-877a-4d9c-94d9-973433d17f04"
      },
      "execution_count": 8,
      "outputs": [
        {
          "output_type": "stream",
          "name": "stdout",
          "text": [
            "Epoch 0: Val Loss 0.2504\n"
          ]
        }
      ]
    },
    {
      "cell_type": "markdown",
      "source": [
        "#Section 8: Get embeddings"
      ],
      "metadata": {
        "id": "Tsyw4JAH_YuV"
      }
    },
    {
      "cell_type": "code",
      "source": [
        "gnn_model.eval()\n",
        "with torch.no_grad():\n",
        "    embeddings, _ = gnn_model(node_feats, adj_tensor)\n",
        "    embeddings = embeddings.numpy()"
      ],
      "metadata": {
        "id": "vhfS-mpB_XsD"
      },
      "execution_count": 9,
      "outputs": []
    },
    {
      "cell_type": "markdown",
      "source": [
        "Section 9: MLP Classifier"
      ],
      "metadata": {
        "id": "ig07dFja_r9G"
      }
    },
    {
      "cell_type": "code",
      "source": [
        "class MLP(nn.Module):\n",
        "    def __init__(self, input_size):\n",
        "        super().__init__()\n",
        "        self.fc1 = nn.Linear(input_size, 64)\n",
        "        self.fc2 = nn.Linear(64, 1)\n",
        "        self.sigmoid = nn.Sigmoid()\n",
        "\n",
        "    def forward(self, x):\n",
        "        x = F.relu(self.fc1(x))\n",
        "        x = self.sigmoid(self.fc2(x))\n",
        "        return x\n",
        "\n",
        "mlp_model = MLP(input_size=embeddings.shape[1])\n",
        "optimizer_mlp = Adam(mlp_model.parameters(), lr=0.01)\n",
        "criterion_mlp = nn.BCELoss()"
      ],
      "metadata": {
        "id": "t98T9rzW_vFS"
      },
      "execution_count": 10,
      "outputs": []
    },
    {
      "cell_type": "markdown",
      "source": [
        "#Section 10: Evaluation"
      ],
      "metadata": {
        "id": "knXEHzu1AAXj"
      }
    },
    {
      "cell_type": "code",
      "source": [
        "mlp_model.eval()\n",
        "with torch.no_grad():\n",
        "    embeddings_test = torch.tensor(embeddings[test_idx_all], dtype=torch.float)\n",
        "    test_preds = (mlp_model(embeddings_test) > 0.5).float().numpy()\n",
        "    test_probs = mlp_model(embeddings_test).detach().numpy()\n",
        "acc = accuracy_score(labels[test_idx_all].numpy(), test_preds)\n",
        "auc = roc_auc_score(labels[test_idx_all].numpy(), test_probs)\n",
        "print(f\"GCN + MLP Accuracy: {acc:.4f}, AUC: {auc:.4f}\")\n",
        "print(classification_report(labels[test_idx_all].numpy(), test_preds))"
      ],
      "metadata": {
        "colab": {
          "base_uri": "https://localhost:8080/"
        },
        "id": "aOxRoj15ABcl",
        "outputId": "18a0b2f3-3e64-43c4-f859-1338ddc6aed2"
      },
      "execution_count": 11,
      "outputs": [
        {
          "output_type": "stream",
          "name": "stdout",
          "text": [
            "GCN + MLP Accuracy: 0.1943, AUC: 0.3035\n",
            "              precision    recall  f1-score   support\n",
            "\n",
            "         0.0       0.00      0.00      0.00       228\n",
            "         1.0       0.19      1.00      0.33        55\n",
            "\n",
            "    accuracy                           0.19       283\n",
            "   macro avg       0.10      0.50      0.16       283\n",
            "weighted avg       0.04      0.19      0.06       283\n",
            "\n"
          ]
        },
        {
          "output_type": "stream",
          "name": "stderr",
          "text": [
            "/usr/local/lib/python3.12/dist-packages/sklearn/metrics/_classification.py:1565: UndefinedMetricWarning: Precision is ill-defined and being set to 0.0 in labels with no predicted samples. Use `zero_division` parameter to control this behavior.\n",
            "  _warn_prf(average, modifier, f\"{metric.capitalize()} is\", len(result))\n",
            "/usr/local/lib/python3.12/dist-packages/sklearn/metrics/_classification.py:1565: UndefinedMetricWarning: Precision is ill-defined and being set to 0.0 in labels with no predicted samples. Use `zero_division` parameter to control this behavior.\n",
            "  _warn_prf(average, modifier, f\"{metric.capitalize()} is\", len(result))\n",
            "/usr/local/lib/python3.12/dist-packages/sklearn/metrics/_classification.py:1565: UndefinedMetricWarning: Precision is ill-defined and being set to 0.0 in labels with no predicted samples. Use `zero_division` parameter to control this behavior.\n",
            "  _warn_prf(average, modifier, f\"{metric.capitalize()} is\", len(result))\n"
          ]
        }
      ]
    },
    {
      "cell_type": "markdown",
      "source": [
        "# Section 11: Visualizations"
      ],
      "metadata": {
        "id": "uEt-mXBmALSV"
      }
    },
    {
      "cell_type": "code",
      "source": [
        "background = torch.tensor(embeddings[train_idx_all], dtype=torch.float)\n",
        "explainer = shap.GradientExplainer(mlp_model, background)\n",
        "shap_values = explainer.shap_values(embeddings_test)\n",
        "shap.summary_plot(shap_values, embeddings_test.numpy(), feature_names=[f'emb_{i}' for i in range(embeddings.shape[1])])\n",
        "\n",
        "tsne = TSNE(n_components=2, random_state=42)\n",
        "embed_2d = tsne.fit_transform(embeddings[test_idx_all])\n",
        "plt.scatter(embed_2d[:, 0], embed_2d[:, 1], c=labels[test_idx_all].numpy(), cmap='viridis')\n",
        "plt.colorbar(label='Target (1=High Risk)')\n",
        "plt.title('t-SNE Visualization of GCN Embeddings')\n",
        "plt.show()"
      ],
      "metadata": {
        "colab": {
          "base_uri": "https://localhost:8080/",
          "height": 1000
        },
        "id": "vUMYP9FqAN6B",
        "outputId": "02c68555-5e46-4b53-e686-ccb7cfd186d0"
      },
      "execution_count": 12,
      "outputs": [
        {
          "output_type": "stream",
          "name": "stderr",
          "text": [
            "/tmp/ipython-input-443663181.py:4: FutureWarning: The NumPy global RNG was seeded by calling `np.random.seed`. In a future version this function will no longer use the global RNG. Pass `rng` explicitly to opt-in to the new behaviour and silence this warning.\n",
            "  shap.summary_plot(shap_values, embeddings_test.numpy(), feature_names=[f'emb_{i}' for i in range(embeddings.shape[1])])\n",
            "/usr/local/lib/python3.12/dist-packages/shap/plots/_beeswarm.py:723: FutureWarning: The NumPy global RNG was seeded by calling `np.random.seed`. In a future version this function will no longer use the global RNG. Pass `rng` explicitly to opt-in to the new behaviour and silence this warning.\n",
            "  summary_legacy(\n"
          ]
        },
        {
          "output_type": "display_data",
          "data": {
            "text/plain": [
              "<Figure size 1150x660 with 1 Axes>"
            ],
            "image/png": "[encoded data removed]"
          },
          "metadata": {}
        },
        {
          "output_type": "display_data",
          "data": {
            "text/plain": [
              "<Figure size 640x480 with 2 Axes>"
            ],
            "image/png": "[encoded data removed]"
          },
          "metadata": {}
        }
      ]
    }
  ]
}
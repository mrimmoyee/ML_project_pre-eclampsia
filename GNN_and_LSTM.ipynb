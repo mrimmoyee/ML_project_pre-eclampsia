{
  "cells": [
    {
      "cell_type": "markdown",
      "metadata": {
        "id": "_0wrub5T2RtJ"
      },
      "source": [
        "# GNN + LSTM for Maternal Health Risk Prediction\n"
      ]
    },
    {
      "cell_type": "markdown",
      "metadata": {
        "id": "JM4MXc782YwC"
      },
      "source": [
        "\n",
        "**Description:** \n",
        "This project uses Graph Neural Networks (GNN) to extract embeddings from maternal health data and an LSTM classifier for predicting high-risk pregnancies.\n",
        "\n",
        "**Date:** 25-08-2025\n",
        "\n",
        "**Libraries:** PyTorch, NetworkX, Scikit-learn, SHAP, Matplotlib\n"
      ]
    },
    {
      "cell_type": "markdown",
      "metadata": {
        "id": "zKd0hQ9k22O1"
      },
      "source": [
        "# 1.Import Libraries"
      ]
    },
    {
      "cell_type": "code",
      "execution_count": 26,
      "metadata": {
        "id": "zhFxap6D2YI0"
      },
      "outputs": [],
      "source": [
        "# Data handling\n",
        "import pandas as pd\n",
        "import numpy as np\n",
        "\n",
        "# Graph processing\n",
        "import networkx as nx\n",
        "from sklearn.preprocessing import MinMaxScaler\n",
        "from sklearn.impute import SimpleImputer\n",
        "from sklearn.metrics.pairwise import euclidean_distances\n",
        "\n",
        "# Model evaluation\n",
        "from sklearn.model_selection import StratifiedKFold\n",
        "from sklearn.metrics import accuracy_score, roc_auc_score, classification_report\n",
        "\n",
        "# PyTorch for GNN + LSTM\n",
        "import torch\n",
        "import torch.nn as nn\n",
        "import torch.nn.functional as F\n",
        "from torch.optim import Adam\n",
        "\n",
        "# Visualization\n",
        "import matplotlib.pyplot as plt\n",
        "from sklearn.manifold import TSNE\n",
        "import shap\n"
      ]
    },
    {
      "cell_type": "markdown",
      "metadata": {
        "id": "gEHjbZCt28PM"
      },
      "source": [
        "# 2. Load Data"
      ]
    },
    {
      "cell_type": "code",
      "execution_count": 27,
      "metadata": {
        "id": "jhWK-tqz2-it"
      },
      "outputs": [],
      "source": [
        "# Load CSV files\n",
        "maternal = pd.read_csv('/content/maternal_health_risk.csv')\n",
        "pree = pd.read_csv('/content/preeclampsia.csv')\n",
        "\n",
        "# Add domain labels\n",
        "maternal['domain'] = 0\n",
        "pree['domain'] = 1\n",
        "\n",
        "# Rename columns for consistency\n",
        "maternal.rename(columns={'Age': 'age', 'SystolicBP': 'sysbp', 'DiastolicBP': 'diabp'}, inplace=True)\n",
        "\n",
        "# Combine datasets\n",
        "combined = pd.concat([maternal, pree], axis=0, ignore_index=True)\n",
        "\n",
        "# Define target: 1 if high risk, 0 otherwise\n",
        "combined['target'] = np.where(combined['RiskLevel'] == 'high risk', 1, 0)\n",
        "combined['target'] = combined['target'].fillna(combined['htn'].fillna(0))\n"
      ]
    },
    {
      "cell_type": "markdown",
      "metadata": {
        "id": "aiC4LK5i3A_l"
      },
      "source": [
        "# 3. Preprocess Features"
      ]
    },
    {
      "cell_type": "code",
      "execution_count": 28,
      "metadata": {
        "id": "sc2rB5zO3DPE"
      },
      "outputs": [],
      "source": [
        "features = ['age', 'sysbp', 'diabp', 'BS', 'BodyTemp', 'HeartRate', 'bmi', 'plgf:sflt', 'SEng']\n",
        "X = combined[features].copy()\n",
        "\n",
        "# Impute missing values\n",
        "imputer = SimpleImputer(strategy='median')\n",
        "X = pd.DataFrame(imputer.fit_transform(X), columns=features)\n",
        "\n",
        "# Normalize features\n",
        "scaler = MinMaxScaler()\n",
        "X_scaled = scaler.fit_transform(X)\n"
      ]
    },
    {
      "cell_type": "markdown",
      "metadata": {
        "id": "n5Hj02G33FqS"
      },
      "source": [
        "# 4. Graph Construction"
      ]
    },
    {
      "cell_type": "code",
      "execution_count": 29,
      "metadata": {
        "id": "4RAY2HX63HNq"
      },
      "outputs": [],
      "source": [
        "G = nx.Graph()\n",
        "\n",
        "# Add nodes with features\n",
        "for i in range(len(X_scaled)):\n",
        "    G.add_node(i, features=X_scaled[i])\n",
        "\n",
        "# Compute pairwise distances\n",
        "dist_matrix = euclidean_distances(X_scaled)\n",
        "threshold = 0.3\n",
        "\n",
        "# Connect nodes within threshold distance\n",
        "for i in range(len(X_scaled)):\n",
        "    for j in range(i + 1, len(X_scaled)):\n",
        "        if dist_matrix[i][j] < threshold:\n",
        "            G.add_edge(i, j, weight=1 - dist_matrix[i][j])\n",
        "\n",
        "# Convert graph to adjacency tensor\n",
        "adj = nx.to_numpy_array(G)\n",
        "adj_tensor = torch.tensor(adj, dtype=torch.float)\n",
        "node_feats = torch.tensor(X_scaled, dtype=torch.float)\n",
        "labels = torch.tensor(combined['target'].values, dtype=torch.float).unsqueeze(1)\n",
        "domains = torch.tensor(combined['domain'].values, dtype=torch.float).unsqueeze(1)\n"
      ]
    },
    {
      "cell_type": "markdown",
      "metadata": {
        "id": "BZHq7piX3Kli"
      },
      "source": [
        "# 5. Prepare Cross-Validation"
      ]
    },
    {
      "cell_type": "code",
      "execution_count": 30,
      "metadata": {
        "id": "pFqEBkAd3MIh"
      },
      "outputs": [],
      "source": [
        "cv = StratifiedKFold(n_splits=5, shuffle=True, random_state=42)\n",
        "train_idx_all, test_idx_all = next(cv.split(node_feats, labels.numpy()))\n"
      ]
    },
    {
      "cell_type": "markdown",
      "metadata": {
        "id": "xKcWP4K03Nlj"
      },
      "source": [
        "# 6. Define GNN Model"
      ]
    },
    {
      "cell_type": "code",
      "execution_count": 31,
      "metadata": {
        "id": "IN3G7v883PwG"
      },
      "outputs": [],
      "source": [
        "class UpdatedGNN(nn.Module):\n",
        "    def __init__(self, in_features, hidden=64, embed_size=32, dropout_rate=0.5):\n",
        "        super().__init__()\n",
        "        self.gcn1 = nn.Linear(in_features, hidden)\n",
        "        self.gcn2 = nn.Linear(hidden, embed_size)\n",
        "        self.recon_layer = nn.Linear(embed_size, in_features)\n",
        "        self.domain_classifier = nn.Linear(embed_size, 1)\n",
        "        self.dropout = nn.Dropout(dropout_rate)\n",
        "\n",
        "    def forward(self, X, adj):\n",
        "        adj_norm = adj + torch.eye(adj.size(0))\n",
        "        degree = torch.sum(adj_norm, dim=1).clamp(min=1)\n",
        "        adj_norm = adj_norm / degree.unsqueeze(1)\n",
        "        emb = F.relu(self.gcn1(adj_norm @ X))\n",
        "        emb = self.dropout(emb)\n",
        "        emb = F.relu(self.gcn2(adj_norm @ emb))\n",
        "        recon = self.recon_layer(emb)\n",
        "        return emb, recon\n",
        "\n",
        "    def domain_forward(self, emb):\n",
        "        return torch.sigmoid(self.domain_classifier(emb))\n"
      ]
    },
    {
      "cell_type": "markdown",
      "metadata": {
        "id": "S955w39t3UmG"
      },
      "source": [
        "# 7. Federated GNN Training"
      ]
    },
    {
      "cell_type": "code",
      "execution_count": 32,
      "metadata": {
        "colab": {
          "base_uri": "https://localhost:8080/"
        },
        "id": "VzzgAgjc3WQ0",
        "outputId": "08473f77-c78f-4b1d-fc13-7dd4670591af"
      },
      "outputs": [
        {
          "name": "stdout",
          "output_type": "stream",
          "text": [
            "Epoch 0: Val Loss 0.2638\n"
          ]
        }
      ],
      "source": [
        "gnn_model = UpdatedGNN(in_features=node_feats.shape[1])\n",
        "optimizer = Adam(gnn_model.parameters(), lr=0.01)\n",
        "recon_criterion = nn.MSELoss()\n",
        "domain_criterion = nn.BCELoss()\n",
        "best_loss = float('inf')\n",
        "patience = 10\n",
        "counter = 0\n",
        "\n",
        "# Client indices\n",
        "maternal_idx = combined[combined['domain'] == 0].index\n",
        "pree_idx = combined[combined['domain'] == 1].index\n",
        "clients = [maternal_idx, pree_idx]\n",
        "local_models = [UpdatedGNN(in_features=node_feats.shape[1]) for _ in clients]\n",
        "\n",
        "for epoch in range(100):\n",
        "    total_loss = 0\n",
        "    for i, client_idx in enumerate(clients):\n",
        "        local_model = local_models[i]\n",
        "        local_model.train()\n",
        "        optimizer.zero_grad()\n",
        "        emb, recon = local_model(node_feats[client_idx], adj_tensor[client_idx][:, client_idx])\n",
        "        recon_loss = recon_criterion(recon, node_feats[client_idx])\n",
        "        domain_pred = local_model.domain_forward(emb)\n",
        "        domain_loss = domain_criterion(domain_pred, domains[client_idx])\n",
        "        loss = recon_loss + 0.5 * domain_loss\n",
        "        loss.backward()\n",
        "        optimizer.step()\n",
        "        total_loss += loss.item()\n",
        "\n",
        "    # Federated averaging\n",
        "    with torch.no_grad():\n",
        "        for param, *local_params in zip(gnn_model.parameters(), *[m.parameters() for m in local_models]):\n",
        "            param.data = sum(p.data for p in local_params) / len(local_models)\n",
        "\n",
        "    # Early stopping check\n",
        "    gnn_model.eval()\n",
        "    with torch.no_grad():\n",
        "        val_emb, val_recon = gnn_model(node_feats[test_idx_all], adj_tensor[test_idx_all][:, test_idx_all])\n",
        "        val_loss = recon_criterion(val_recon, node_feats[test_idx_all])\n",
        "    if val_loss < best_loss:\n",
        "        best_loss = val_loss\n",
        "        counter = 0\n",
        "    else:\n",
        "        counter += 1\n",
        "        if counter >= patience:\n",
        "            break\n",
        "    if epoch % 10 == 0:\n",
        "        print(f\"Epoch {epoch}: Val Loss {val_loss:.4f}\")\n"
      ]
    },
    {
      "cell_type": "markdown",
      "metadata": {
        "id": "KGNXPG983ZsC"
      },
      "source": [
        "# 8. Extract GNN Embeddings"
      ]
    },
    {
      "cell_type": "code",
      "execution_count": 33,
      "metadata": {
        "id": "9YO97w_c3bOG"
      },
      "outputs": [],
      "source": [
        "gnn_model.eval()\n",
        "with torch.no_grad():\n",
        "    embeddings, _ = gnn_model(node_feats, adj_tensor)\n",
        "    embeddings = embeddings.numpy()\n"
      ]
    },
    {
      "cell_type": "markdown",
      "metadata": {
        "id": "kMfMZQhD3dPM"
      },
      "source": [
        "# 9. Define LSTM Classifier"
      ]
    },
    {
      "cell_type": "code",
      "execution_count": 34,
      "metadata": {
        "id": "OQLcK1mc3emX"
      },
      "outputs": [],
      "source": [
        "class LSTMClassifier(nn.Module):\n",
        "    def __init__(self, input_size, hidden_size=64):\n",
        "        super().__init__()\n",
        "        self.lstm = nn.LSTM(input_size, hidden_size, batch_first=True)\n",
        "        self.fc = nn.Linear(hidden_size, 1)\n",
        "        self.sigmoid = nn.Sigmoid()\n",
        "\n",
        "    def forward(self, x):\n",
        "        _, (hn, _) = self.lstm(x.unsqueeze(1))\n",
        "        out = self.sigmoid(self.fc(hn.squeeze(0)))\n",
        "        return out\n"
      ]
    },
    {
      "cell_type": "markdown",
      "metadata": {
        "id": "NInJ1F6P3gSx"
      },
      "source": [
        "# 10. Train LSTM"
      ]
    },
    {
      "cell_type": "code",
      "execution_count": 35,
      "metadata": {
        "id": "RCeETa7L3igP"
      },
      "outputs": [],
      "source": [
        "lstm_model = LSTMClassifier(input_size=embeddings.shape[1])\n",
        "optimizer_lstm = Adam(lstm_model.parameters(), lr=0.01)\n",
        "criterion_lstm = nn.BCELoss()\n",
        "\n",
        "embeddings_train = torch.tensor(embeddings[train_idx_all], dtype=torch.float)\n",
        "labels_train = labels[train_idx_all]\n",
        "\n",
        "for epoch in range(50):\n",
        "    lstm_model.train()\n",
        "    optimizer_lstm.zero_grad()\n",
        "    preds = lstm_model(embeddings_train)\n",
        "    loss = criterion_lstm(preds, labels_train)\n",
        "    loss.backward()\n",
        "    optimizer_lstm.step()\n"
      ]
    },
    {
      "cell_type": "markdown",
      "metadata": {
        "id": "zZia95ix3kD7"
      },
      "source": [
        "# 11. Evaluate LSTM"
      ]
    },
    {
      "cell_type": "code",
      "execution_count": 36,
      "metadata": {
        "colab": {
          "base_uri": "https://localhost:8080/"
        },
        "id": "MN7YSK7q3mPI",
        "outputId": "b7a3b5b0-3912-46c4-fb74-242ae2a6925f"
      },
      "outputs": [
        {
          "name": "stdout",
          "output_type": "stream",
          "text": [
            "GNN + LSTM Accuracy: 0.8057, AUC: 0.8017\n",
            "              precision    recall  f1-score   support\n",
            "\n",
            "         0.0       0.81      1.00      0.89       228\n",
            "         1.0       0.00      0.00      0.00        55\n",
            "\n",
            "    accuracy                           0.81       283\n",
            "   macro avg       0.40      0.50      0.45       283\n",
            "weighted avg       0.65      0.81      0.72       283\n",
            "\n"
          ]
        },
        {
          "name": "stderr",
          "output_type": "stream",
          "text": [
            "/usr/local/lib/python3.12/dist-packages/sklearn/metrics/_classification.py:1565: UndefinedMetricWarning: Precision is ill-defined and being set to 0.0 in labels with no predicted samples. Use `zero_division` parameter to control this behavior.\n",
            "  _warn_prf(average, modifier, f\"{metric.capitalize()} is\", len(result))\n",
            "/usr/local/lib/python3.12/dist-packages/sklearn/metrics/_classification.py:1565: UndefinedMetricWarning: Precision is ill-defined and being set to 0.0 in labels with no predicted samples. Use `zero_division` parameter to control this behavior.\n",
            "  _warn_prf(average, modifier, f\"{metric.capitalize()} is\", len(result))\n",
            "/usr/local/lib/python3.12/dist-packages/sklearn/metrics/_classification.py:1565: UndefinedMetricWarning: Precision is ill-defined and being set to 0.0 in labels with no predicted samples. Use `zero_division` parameter to control this behavior.\n",
            "  _warn_prf(average, modifier, f\"{metric.capitalize()} is\", len(result))\n"
          ]
        }
      ],
      "source": [
        "lstm_model.eval()\n",
        "with torch.no_grad():\n",
        "    embeddings_test = torch.tensor(embeddings[test_idx_all], dtype=torch.float)\n",
        "    test_preds = (lstm_model(embeddings_test) > 0.5).float().numpy()\n",
        "    test_probs = lstm_model(embeddings_test).detach().numpy()\n",
        "\n",
        "acc = accuracy_score(labels[test_idx_all].numpy(), test_preds)\n",
        "auc = roc_auc_score(labels[test_idx_all].numpy(), test_probs)\n",
        "print(f\"GNN + LSTM Accuracy: {acc:.4f}, AUC: {auc:.4f}\")\n",
        "print(classification_report(labels[test_idx_all].numpy(), test_preds))\n"
      ]
    },
    {
      "cell_type": "markdown",
      "metadata": {
        "id": "Km6aLRap3nav"
      },
      "source": [
        "# 12. Visualizations"
      ]
    },
    {
      "cell_type": "code",
      "execution_count": 37,
      "metadata": {
        "colab": {
          "base_uri": "https://localhost:8080/",
          "height": 1000
        },
        "id": "eUMTDPFE3pp9",
        "outputId": "c0f9bc47-c534-492e-9d49-7c734b301ff6"
      },
      "outputs": [
        {
          "name": "stderr",
          "output_type": "stream",
          "text": [
            "/tmp/ipython-input-2940196246.py:5: FutureWarning: The NumPy global RNG was seeded by calling `np.random.seed`. In a future version this function will no longer use the global RNG. Pass `rng` explicitly to opt-in to the new behaviour and silence this warning.\n",
            "  shap.summary_plot(shap_values, embeddings_test.numpy(), feature_names=[f'emb_{i}' for i in range(embeddings.shape[1])])\n",
            "/usr/local/lib/python3.12/dist-packages/shap/plots/_beeswarm.py:723: FutureWarning: The NumPy global RNG was seeded by calling `np.random.seed`. In a future version this function will no longer use the global RNG. Pass `rng` explicitly to opt-in to the new behaviour and silence this warning.\n",
            "  summary_legacy(\n"
          ]
        },
        {
          "data": {
            "image/png": "[encoded data removed]",
            "text/plain": [
              "<Figure size 1150x660 with 1 Axes>"
            ]
          },
          "metadata": {},
          "output_type": "display_data"
        },
        {
          "data": {
            "image/png": "[encoded data removed]",
            "text/plain": [
              "<Figure size 640x480 with 2 Axes>"
            ]
          },
          "metadata": {},
          "output_type": "display_data"
        }
      ],
      "source": [
        "# SHAP explanation\n",
        "background = torch.tensor(embeddings[train_idx_all], dtype=torch.float)\n",
        "explainer = shap.GradientExplainer(lstm_model, background)\n",
        "shap_values = explainer.shap_values(embeddings_test)\n",
        "shap.summary_plot(shap_values, embeddings_test.numpy(), feature_names=[f'emb_{i}' for i in range(embeddings.shape[1])])\n",
        "\n",
        "# t-SNE plot\n",
        "tsne = TSNE(n_components=2, random_state=42)\n",
        "embed_2d = tsne.fit_transform(embeddings[test_idx_all])\n",
        "plt.scatter(embed_2d[:, 0], embed_2d[:, 1], c=labels[test_idx_all].numpy(), cmap='viridis')\n",
        "plt.colorbar(label='Target (1=High Risk)')\n",
        "plt.title('t-SNE Visualization of GNN Embeddings')\n",
        "plt.show()\n"
      ]
    }
  ],
  "metadata": {
    "colab": {
      "provenance": []
    },
    "kernelspec": {
      "display_name": "Python 3",
      "name": "python3"
    },
    "language_info": {
      "name": "python"
    }
  },
  "nbformat": 4,
  "nbformat_minor": 0
}

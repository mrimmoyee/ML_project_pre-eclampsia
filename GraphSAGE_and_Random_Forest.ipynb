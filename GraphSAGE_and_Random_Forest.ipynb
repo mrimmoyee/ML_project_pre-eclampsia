{
  "nbformat": 4,
  "nbformat_minor": 0,
  "metadata": {
    "colab": {
      "provenance": []
    },
    "kernelspec": {
      "name": "python3",
      "display_name": "Python 3"
    },
    "language_info": {
      "name": "python"
    }
  },
  "cells": [
    {
      "cell_type": "markdown",
      "source": [
        "# Project Title: Maternal Health Risk Prediction using GraphSAGE and Random Forest"
      ],
      "metadata": {
        "id": "DBN1CuYh5snK"
      }
    },
    {
      "cell_type": "markdown",
      "source": [
        "**Description:** This project uses a GraphSAGE model to extract node embeddings from maternal health data and a Random Forest classifier to predict high-risk pregnancies.\n",
        "\n",
        "**Date:** 25-08-2025\n",
        "\n",
        "**Libraries:** PyTorch, NetworkX, Scikit-learn, SHAP, Matplotlib\n"
      ],
      "metadata": {
        "id": "9ff93qk554V2"
      }
    },
    {
      "cell_type": "markdown",
      "source": [
        "# 1. Import Libraries"
      ],
      "metadata": {
        "id": "nZtxs33-6Mas"
      }
    },
    {
      "cell_type": "markdown",
      "source": [
        "In this step, we import all required libraries. Libraries include data manipulation (pandas, numpy), visualization (matplotlib, seaborn), and machine learning tools (scikit-learn). Importing everything at the start ensures reproducibility and cleaner code.\n"
      ],
      "metadata": {
        "id": "Yja3xFU_Cibn"
      }
    },
    {
      "cell_type": "code",
      "source": [
        "# Data handling\n",
        "import pandas as pd\n",
        "import numpy as np\n",
        "\n",
        "# Graph processing\n",
        "import networkx as nx\n",
        "from sklearn.preprocessing import MinMaxScaler\n",
        "from sklearn.impute import SimpleImputer\n",
        "from sklearn.metrics.pairwise import euclidean_distances\n",
        "\n",
        "# Model evaluation\n",
        "from sklearn.model_selection import StratifiedKFold\n",
        "from sklearn.metrics import accuracy_score, roc_auc_score, classification_report\n",
        "from sklearn.ensemble import RandomForestClassifier\n",
        "\n",
        "# PyTorch for GraphSAGE\n",
        "import torch\n",
        "import torch.nn as nn\n",
        "import torch.nn.functional as F\n",
        "from torch.optim import Adam\n",
        "\n",
        "# Visualization\n",
        "import matplotlib.pyplot as plt\n",
        "from sklearn.manifold import TSNE\n",
        "import shap\n"
      ],
      "metadata": {
        "id": "r3zgFj-Y6PHq"
      },
      "execution_count": 1,
      "outputs": []
    },
    {
      "cell_type": "markdown",
      "source": [
        "# 2. Load Data"
      ],
      "metadata": {
        "id": "yRxfAmXM6Q6V"
      }
    },
    {
      "cell_type": "markdown",
      "source": [
        " We load the dataset from a CSV file into a pandas DataFrame. This step also includes previewing the first few rows to understand the structure of the data.\n"
      ],
      "metadata": {
        "id": "IWRIXUyRCk9K"
      }
    },
    {
      "cell_type": "code",
      "source": [
        "# Load CSV files\n",
        "maternal = pd.read_csv('/content/maternal_health_risk.csv')\n",
        "pree = pd.read_csv('/content/preeclampsia.csv')\n",
        "\n",
        "# Add domain labels\n",
        "maternal['domain'] = 0\n",
        "pree['domain'] = 1\n",
        "\n",
        "# Rename columns for consistency\n",
        "maternal.rename(columns={'Age': 'age', 'SystolicBP': 'sysbp', 'DiastolicBP': 'diabp'}, inplace=True)\n",
        "\n",
        "# Combine datasets\n",
        "combined = pd.concat([maternal, pree], axis=0, ignore_index=True)\n",
        "\n",
        "# Define target: 1 if high risk, 0 otherwise\n",
        "combined['target'] = np.where(combined['RiskLevel'] == 'high risk', 1, 0)\n",
        "combined['target'] = combined['target'].fillna(combined['htn'].fillna(0))\n"
      ],
      "metadata": {
        "id": "a7bTdPtb6Tgg"
      },
      "execution_count": 2,
      "outputs": []
    },
    {
      "cell_type": "markdown",
      "source": [
        "# 3. Preprocess Features"
      ],
      "metadata": {
        "id": "Gmoa3Vrc6U9o"
      }
    },
    {
      "cell_type": "markdown",
      "source": [
        "Preprocessing ensures data quality and readiness for modeling. This includes handling missing values, encoding categorical variables, normalizing or scaling features, and removing irrelevant columns.\n"
      ],
      "metadata": {
        "id": "uaO37AuWCm_w"
      }
    },
    {
      "cell_type": "code",
      "source": [
        "features = ['age', 'sysbp', 'diabp', 'BS', 'BodyTemp', 'HeartRate', 'bmi', 'plgf:sflt', 'SEng']\n",
        "X = combined[features].copy()\n",
        "\n",
        "# Impute missing values\n",
        "imputer = SimpleImputer(strategy='median')\n",
        "X = pd.DataFrame(imputer.fit_transform(X), columns=features)\n",
        "\n",
        "# Normalize features\n",
        "scaler = MinMaxScaler()\n",
        "X_scaled = scaler.fit_transform(X)\n"
      ],
      "metadata": {
        "id": "mWn5e-1z6X7E"
      },
      "execution_count": 3,
      "outputs": []
    },
    {
      "cell_type": "markdown",
      "source": [
        "# 4. Graph Construction"
      ],
      "metadata": {
        "id": "fY092dr46Z55"
      }
    },
    {
      "cell_type": "code",
      "source": [
        "G = nx.Graph()\n",
        "\n",
        "# Add nodes with features\n",
        "for i in range(len(X_scaled)):\n",
        "    G.add_node(i, features=X_scaled[i])\n",
        "\n",
        "# Compute pairwise distances\n",
        "dist_matrix = euclidean_distances(X_scaled)\n",
        "threshold = 0.3\n",
        "\n",
        "# Connect nodes within threshold distance\n",
        "for i in range(len(X_scaled)):\n",
        "    for j in range(i + 1, len(X_scaled)):\n",
        "        if dist_matrix[i][j] < threshold:\n",
        "            G.add_edge(i, j, weight=1 - dist_matrix[i][j])\n",
        "\n",
        "# Convert graph to adjacency tensor\n",
        "adj = nx.to_numpy_array(G)\n",
        "adj_tensor = torch.tensor(adj, dtype=torch.float)\n",
        "node_feats = torch.tensor(X_scaled, dtype=torch.float)\n",
        "labels = torch.tensor(combined['target'].values, dtype=torch.float).unsqueeze(1)\n",
        "domains = torch.tensor(combined['domain'].values, dtype=torch.float).unsqueeze(1)\n"
      ],
      "metadata": {
        "id": "xlX_3KDv6ayT"
      },
      "execution_count": 4,
      "outputs": []
    },
    {
      "cell_type": "markdown",
      "source": [
        "# 5. Prepare Cross-Validation"
      ],
      "metadata": {
        "id": "R_hIF8qF6dHI"
      }
    },
    {
      "cell_type": "code",
      "source": [
        "cv = StratifiedKFold(n_splits=5, shuffle=True, random_state=42)\n",
        "train_idx_all, test_idx_all = next(cv.split(node_feats, labels.numpy()))\n"
      ],
      "metadata": {
        "id": "ZXF-i50l6fT6"
      },
      "execution_count": 5,
      "outputs": []
    },
    {
      "cell_type": "markdown",
      "source": [
        "# 6. Define GraphSAGE Model"
      ],
      "metadata": {
        "id": "b9P7DoJD6g_x"
      }
    },
    {
      "cell_type": "code",
      "source": [
        "class GraphSAGE(nn.Module):\n",
        "    def __init__(self, in_features, hidden=64, embed_size=32, dropout_rate=0.5):\n",
        "        super().__init__()\n",
        "        self.conv1 = nn.Linear(in_features * 2, hidden)\n",
        "        self.conv2 = nn.Linear(hidden * 2, embed_size)\n",
        "        self.recon_layer = nn.Linear(embed_size, in_features)\n",
        "        self.domain_classifier = nn.Linear(embed_size, 1)\n",
        "        self.dropout = nn.Dropout(dropout_rate)\n",
        "\n",
        "    def forward(self, X, adj):\n",
        "        neighbor_feats = adj @ X\n",
        "        combined = torch.cat([X, neighbor_feats], dim=1)\n",
        "        emb = F.relu(self.conv1(combined))\n",
        "        emb = self.dropout(emb)\n",
        "        neighbor_feats2 = adj @ emb\n",
        "        combined2 = torch.cat([emb, neighbor_feats2], dim=1)\n",
        "        emb = F.relu(self.conv2(combined2))\n",
        "        recon = self.recon_layer(emb)\n",
        "        return emb, recon\n",
        "\n",
        "    def domain_forward(self, emb):\n",
        "        return torch.sigmoid(self.domain_classifier(emb))\n"
      ],
      "metadata": {
        "id": "tg-dzQ3T6jz5"
      },
      "execution_count": 6,
      "outputs": []
    },
    {
      "cell_type": "markdown",
      "source": [
        "# 7. Federated GraphSAGE Training"
      ],
      "metadata": {
        "id": "aNV0tSoU6lSY"
      }
    },
    {
      "cell_type": "code",
      "source": [
        "graphsage_model = GraphSAGE(in_features=node_feats.shape[1])\n",
        "optimizer = Adam(graphsage_model.parameters(), lr=0.01)\n",
        "recon_criterion = nn.MSELoss()\n",
        "domain_criterion = nn.BCELoss()\n",
        "best_loss = float('inf')\n",
        "patience = 10\n",
        "counter = 0\n",
        "\n",
        "# Client indices\n",
        "maternal_idx = combined[combined['domain'] == 0].index\n",
        "pree_idx = combined[combined['domain'] == 1].index\n",
        "clients = [maternal_idx, pree_idx]\n",
        "local_models = [GraphSAGE(in_features=node_feats.shape[1]) for _ in clients]\n",
        "\n",
        "for epoch in range(100):\n",
        "    total_loss = 0\n",
        "    for i, client_idx in enumerate(clients):\n",
        "        local_model = local_models[i]\n",
        "        local_model.train()\n",
        "        optimizer.zero_grad()\n",
        "        emb, recon = local_model(node_feats[client_idx], adj_tensor[client_idx][:, client_idx])\n",
        "        recon_loss = recon_criterion(recon, node_feats[client_idx])\n",
        "        domain_pred = local_model.domain_forward(emb)\n",
        "        domain_loss = domain_criterion(domain_pred, domains[client_idx])\n",
        "        loss = recon_loss + 0.5 * domain_loss\n",
        "        loss.backward()\n",
        "        optimizer.step()\n",
        "        total_loss += loss.item()\n",
        "\n",
        "    # Federated averaging\n",
        "    with torch.no_grad():\n",
        "        for param, *local_params in zip(graphsage_model.parameters(), *[m.parameters() for m in local_models]):\n",
        "            param.data = sum(p.data for p in local_params) / len(local_models)\n",
        "\n",
        "    # Early stopping\n",
        "    graphsage_model.eval()\n",
        "    with torch.no_grad():\n",
        "        val_emb, val_recon = graphsage_model(node_feats[test_idx_all], adj_tensor[test_idx_all][:, test_idx_all])\n",
        "        val_loss = recon_criterion(val_recon, node_feats[test_idx_all])\n",
        "    if val_loss < best_loss:\n",
        "        best_loss = val_loss\n",
        "        counter = 0\n",
        "    else:\n",
        "        counter += 1\n",
        "        if counter >= patience:\n",
        "            break\n",
        "    if epoch % 10 == 0:\n",
        "        print(f\"Epoch {epoch}: Val Loss {val_loss:.4f}\")\n"
      ],
      "metadata": {
        "colab": {
          "base_uri": "https://localhost:8080/"
        },
        "id": "Qlsa9rf26onL",
        "outputId": "d97211f2-38fb-4882-a667-e3fec74a30b3"
      },
      "execution_count": 7,
      "outputs": [
        {
          "output_type": "stream",
          "name": "stdout",
          "text": [
            "Epoch 0: Val Loss 23.1597\n"
          ]
        }
      ]
    },
    {
      "cell_type": "markdown",
      "source": [
        "# 8. Extract GraphSAGE Embeddings"
      ],
      "metadata": {
        "id": "D6xf302z6p8D"
      }
    },
    {
      "cell_type": "code",
      "source": [
        "graphsage_model.eval()\n",
        "with torch.no_grad():\n",
        "    embeddings, _ = graphsage_model(node_feats, adj_tensor)\n",
        "    embeddings = embeddings.numpy()\n"
      ],
      "metadata": {
        "id": "4SM3EiEz6slb"
      },
      "execution_count": 8,
      "outputs": []
    },
    {
      "cell_type": "markdown",
      "source": [
        "# 9. Random Forest Classifier"
      ],
      "metadata": {
        "id": "VAE7MO0m6tx9"
      }
    },
    {
      "cell_type": "markdown",
      "source": [
        "Random Forest is an ensemble learning method that combines multiple decision trees to improve prediction accuracy and reduce overfitting.  \n",
        "- **Training:** The model builds multiple decision trees on random subsets of features and data.  \n",
        "- **Prediction:** Each tree predicts the class, and the majority vote determines the final output.  \n",
        "- **Evaluation:** Accuracy, confusion matrix, and classification report are used to assess performance, enabling comparison with Logistic Regression.\n"
      ],
      "metadata": {
        "id": "GoeZ7kHnDL0u"
      }
    },
    {
      "cell_type": "code",
      "source": [
        "rf_model = RandomForestClassifier(class_weight='balanced', random_state=42)\n",
        "rf_model.fit(embeddings[train_idx_all], labels[train_idx_all].numpy().ravel())\n"
      ],
      "metadata": {
        "colab": {
          "base_uri": "https://localhost:8080/",
          "height": 80
        },
        "id": "4eOo0mjU6wda",
        "outputId": "e2e3bbc4-760d-4439-a5b4-966191dbc0cf"
      },
      "execution_count": 9,
      "outputs": [
        {
          "output_type": "execute_result",
          "data": {
            "text/plain": [
              "RandomForestClassifier(class_weight='balanced', random_state=42)"
            ],
            "text/html": [
              "<style>#sk-container-id-1 {\n",
              "  /* Definition of color scheme common for light and dark mode */\n",
              "  --sklearn-color-text: #000;\n",
              "  --sklearn-color-text-muted: #666;\n",
              "  --sklearn-color-line: gray;\n",
              "  /* Definition of color scheme for unfitted estimators */\n",
              "  --sklearn-color-unfitted-level-0: #fff5e6;\n",
              "  --sklearn-color-unfitted-level-1: #f6e4d2;\n",
              "  --sklearn-color-unfitted-level-2: #ffe0b3;\n",
              "  --sklearn-color-unfitted-level-3: chocolate;\n",
              "  /* Definition of color scheme for fitted estimators */\n",
              "  --sklearn-color-fitted-level-0: #f0f8ff;\n",
              "  --sklearn-color-fitted-level-1: #d4ebff;\n",
              "  --sklearn-color-fitted-level-2: #b3dbfd;\n",
              "  --sklearn-color-fitted-level-3: cornflowerblue;\n",
              "\n",
              "  /* Specific color for light theme */\n",
              "  --sklearn-color-text-on-default-background: var(--sg-text-color, var(--theme-code-foreground, var(--jp-content-font-color1, black)));\n",
              "  --sklearn-color-background: var(--sg-background-color, var(--theme-background, var(--jp-layout-color0, white)));\n",
              "  --sklearn-color-border-box: var(--sg-text-color, var(--theme-code-foreground, var(--jp-content-font-color1, black)));\n",
              "  --sklearn-color-icon: #696969;\n",
              "\n",
              "  @media (prefers-color-scheme: dark) {\n",
              "    /* Redefinition of color scheme for dark theme */\n",
              "    --sklearn-color-text-on-default-background: var(--sg-text-color, var(--theme-code-foreground, var(--jp-content-font-color1, white)));\n",
              "    --sklearn-color-background: var(--sg-background-color, var(--theme-background, var(--jp-layout-color0, #111)));\n",
              "    --sklearn-color-border-box: var(--sg-text-color, var(--theme-code-foreground, var(--jp-content-font-color1, white)));\n",
              "    --sklearn-color-icon: #878787;\n",
              "  }\n",
              "}\n",
              "\n",
              "#sk-container-id-1 {\n",
              "  color: var(--sklearn-color-text);\n",
              "}\n",
              "\n",
              "#sk-container-id-1 pre {\n",
              "  padding: 0;\n",
              "}\n",
              "\n",
              "#sk-container-id-1 input.sk-hidden--visually {\n",
              "  border: 0;\n",
              "  clip: rect(1px 1px 1px 1px);\n",
              "  clip: rect(1px, 1px, 1px, 1px);\n",
              "  height: 1px;\n",
              "  margin: -1px;\n",
              "  overflow: hidden;\n",
              "  padding: 0;\n",
              "  position: absolute;\n",
              "  width: 1px;\n",
              "}\n",
              "\n",
              "#sk-container-id-1 div.sk-dashed-wrapped {\n",
              "  border: 1px dashed var(--sklearn-color-line);\n",
              "  margin: 0 0.4em 0.5em 0.4em;\n",
              "  box-sizing: border-box;\n",
              "  padding-bottom: 0.4em;\n",
              "  background-color: var(--sklearn-color-background);\n",
              "}\n",
              "\n",
              "#sk-container-id-1 div.sk-container {\n",
              "  /* jupyter's `normalize.less` sets `[hidden] { display: none; }`\n",
              "     but bootstrap.min.css set `[hidden] { display: none !important; }`\n",
              "     so we also need the `!important` here to be able to override the\n",
              "     default hidden behavior on the sphinx rendered scikit-learn.org.\n",
              "     See: https://github.com/scikit-learn/scikit-learn/issues/21755 */\n",
              "  display: inline-block !important;\n",
              "  position: relative;\n",
              "}\n",
              "\n",
              "#sk-container-id-1 div.sk-text-repr-fallback {\n",
              "  display: none;\n",
              "}\n",
              "\n",
              "div.sk-parallel-item,\n",
              "div.sk-serial,\n",
              "div.sk-item {\n",
              "  /* draw centered vertical line to link estimators */\n",
              "  background-image: linear-gradient(var(--sklearn-color-text-on-default-background), var(--sklearn-color-text-on-default-background));\n",
              "  background-size: 2px 100%;\n",
              "  background-repeat: no-repeat;\n",
              "  background-position: center center;\n",
              "}\n",
              "\n",
              "/* Parallel-specific style estimator block */\n",
              "\n",
              "#sk-container-id-1 div.sk-parallel-item::after {\n",
              "  content: \"\";\n",
              "  width: 100%;\n",
              "  border-bottom: 2px solid var(--sklearn-color-text-on-default-background);\n",
              "  flex-grow: 1;\n",
              "}\n",
              "\n",
              "#sk-container-id-1 div.sk-parallel {\n",
              "  display: flex;\n",
              "  align-items: stretch;\n",
              "  justify-content: center;\n",
              "  background-color: var(--sklearn-color-background);\n",
              "  position: relative;\n",
              "}\n",
              "\n",
              "#sk-container-id-1 div.sk-parallel-item {\n",
              "  display: flex;\n",
              "  flex-direction: column;\n",
              "}\n",
              "\n",
              "#sk-container-id-1 div.sk-parallel-item:first-child::after {\n",
              "  align-self: flex-end;\n",
              "  width: 50%;\n",
              "}\n",
              "\n",
              "#sk-container-id-1 div.sk-parallel-item:last-child::after {\n",
              "  align-self: flex-start;\n",
              "  width: 50%;\n",
              "}\n",
              "\n",
              "#sk-container-id-1 div.sk-parallel-item:only-child::after {\n",
              "  width: 0;\n",
              "}\n",
              "\n",
              "/* Serial-specific style estimator block */\n",
              "\n",
              "#sk-container-id-1 div.sk-serial {\n",
              "  display: flex;\n",
              "  flex-direction: column;\n",
              "  align-items: center;\n",
              "  background-color: var(--sklearn-color-background);\n",
              "  padding-right: 1em;\n",
              "  padding-left: 1em;\n",
              "}\n",
              "\n",
              "\n",
              "/* Toggleable style: style used for estimator/Pipeline/ColumnTransformer box that is\n",
              "clickable and can be expanded/collapsed.\n",
              "- Pipeline and ColumnTransformer use this feature and define the default style\n",
              "- Estimators will overwrite some part of the style using the `sk-estimator` class\n",
              "*/\n",
              "\n",
              "/* Pipeline and ColumnTransformer style (default) */\n",
              "\n",
              "#sk-container-id-1 div.sk-toggleable {\n",
              "  /* Default theme specific background. It is overwritten whether we have a\n",
              "  specific estimator or a Pipeline/ColumnTransformer */\n",
              "  background-color: var(--sklearn-color-background);\n",
              "}\n",
              "\n",
              "/* Toggleable label */\n",
              "#sk-container-id-1 label.sk-toggleable__label {\n",
              "  cursor: pointer;\n",
              "  display: flex;\n",
              "  width: 100%;\n",
              "  margin-bottom: 0;\n",
              "  padding: 0.5em;\n",
              "  box-sizing: border-box;\n",
              "  text-align: center;\n",
              "  align-items: start;\n",
              "  justify-content: space-between;\n",
              "  gap: 0.5em;\n",
              "}\n",
              "\n",
              "#sk-container-id-1 label.sk-toggleable__label .caption {\n",
              "  font-size: 0.6rem;\n",
              "  font-weight: lighter;\n",
              "  color: var(--sklearn-color-text-muted);\n",
              "}\n",
              "\n",
              "#sk-container-id-1 label.sk-toggleable__label-arrow:before {\n",
              "  /* Arrow on the left of the label */\n",
              "  content: \"▸\";\n",
              "  float: left;\n",
              "  margin-right: 0.25em;\n",
              "  color: var(--sklearn-color-icon);\n",
              "}\n",
              "\n",
              "#sk-container-id-1 label.sk-toggleable__label-arrow:hover:before {\n",
              "  color: var(--sklearn-color-text);\n",
              "}\n",
              "\n",
              "/* Toggleable content - dropdown */\n",
              "\n",
              "#sk-container-id-1 div.sk-toggleable__content {\n",
              "  max-height: 0;\n",
              "  max-width: 0;\n",
              "  overflow: hidden;\n",
              "  text-align: left;\n",
              "  /* unfitted */\n",
              "  background-color: var(--sklearn-color-unfitted-level-0);\n",
              "}\n",
              "\n",
              "#sk-container-id-1 div.sk-toggleable__content.fitted {\n",
              "  /* fitted */\n",
              "  background-color: var(--sklearn-color-fitted-level-0);\n",
              "}\n",
              "\n",
              "#sk-container-id-1 div.sk-toggleable__content pre {\n",
              "  margin: 0.2em;\n",
              "  border-radius: 0.25em;\n",
              "  color: var(--sklearn-color-text);\n",
              "  /* unfitted */\n",
              "  background-color: var(--sklearn-color-unfitted-level-0);\n",
              "}\n",
              "\n",
              "#sk-container-id-1 div.sk-toggleable__content.fitted pre {\n",
              "  /* unfitted */\n",
              "  background-color: var(--sklearn-color-fitted-level-0);\n",
              "}\n",
              "\n",
              "#sk-container-id-1 input.sk-toggleable__control:checked~div.sk-toggleable__content {\n",
              "  /* Expand drop-down */\n",
              "  max-height: 200px;\n",
              "  max-width: 100%;\n",
              "  overflow: auto;\n",
              "}\n",
              "\n",
              "#sk-container-id-1 input.sk-toggleable__control:checked~label.sk-toggleable__label-arrow:before {\n",
              "  content: \"▾\";\n",
              "}\n",
              "\n",
              "/* Pipeline/ColumnTransformer-specific style */\n",
              "\n",
              "#sk-container-id-1 div.sk-label input.sk-toggleable__control:checked~label.sk-toggleable__label {\n",
              "  color: var(--sklearn-color-text);\n",
              "  background-color: var(--sklearn-color-unfitted-level-2);\n",
              "}\n",
              "\n",
              "#sk-container-id-1 div.sk-label.fitted input.sk-toggleable__control:checked~label.sk-toggleable__label {\n",
              "  background-color: var(--sklearn-color-fitted-level-2);\n",
              "}\n",
              "\n",
              "/* Estimator-specific style */\n",
              "\n",
              "/* Colorize estimator box */\n",
              "#sk-container-id-1 div.sk-estimator input.sk-toggleable__control:checked~label.sk-toggleable__label {\n",
              "  /* unfitted */\n",
              "  background-color: var(--sklearn-color-unfitted-level-2);\n",
              "}\n",
              "\n",
              "#sk-container-id-1 div.sk-estimator.fitted input.sk-toggleable__control:checked~label.sk-toggleable__label {\n",
              "  /* fitted */\n",
              "  background-color: var(--sklearn-color-fitted-level-2);\n",
              "}\n",
              "\n",
              "#sk-container-id-1 div.sk-label label.sk-toggleable__label,\n",
              "#sk-container-id-1 div.sk-label label {\n",
              "  /* The background is the default theme color */\n",
              "  color: var(--sklearn-color-text-on-default-background);\n",
              "}\n",
              "\n",
              "/* On hover, darken the color of the background */\n",
              "#sk-container-id-1 div.sk-label:hover label.sk-toggleable__label {\n",
              "  color: var(--sklearn-color-text);\n",
              "  background-color: var(--sklearn-color-unfitted-level-2);\n",
              "}\n",
              "\n",
              "/* Label box, darken color on hover, fitted */\n",
              "#sk-container-id-1 div.sk-label.fitted:hover label.sk-toggleable__label.fitted {\n",
              "  color: var(--sklearn-color-text);\n",
              "  background-color: var(--sklearn-color-fitted-level-2);\n",
              "}\n",
              "\n",
              "/* Estimator label */\n",
              "\n",
              "#sk-container-id-1 div.sk-label label {\n",
              "  font-family: monospace;\n",
              "  font-weight: bold;\n",
              "  display: inline-block;\n",
              "  line-height: 1.2em;\n",
              "}\n",
              "\n",
              "#sk-container-id-1 div.sk-label-container {\n",
              "  text-align: center;\n",
              "}\n",
              "\n",
              "/* Estimator-specific */\n",
              "#sk-container-id-1 div.sk-estimator {\n",
              "  font-family: monospace;\n",
              "  border: 1px dotted var(--sklearn-color-border-box);\n",
              "  border-radius: 0.25em;\n",
              "  box-sizing: border-box;\n",
              "  margin-bottom: 0.5em;\n",
              "  /* unfitted */\n",
              "  background-color: var(--sklearn-color-unfitted-level-0);\n",
              "}\n",
              "\n",
              "#sk-container-id-1 div.sk-estimator.fitted {\n",
              "  /* fitted */\n",
              "  background-color: var(--sklearn-color-fitted-level-0);\n",
              "}\n",
              "\n",
              "/* on hover */\n",
              "#sk-container-id-1 div.sk-estimator:hover {\n",
              "  /* unfitted */\n",
              "  background-color: var(--sklearn-color-unfitted-level-2);\n",
              "}\n",
              "\n",
              "#sk-container-id-1 div.sk-estimator.fitted:hover {\n",
              "  /* fitted */\n",
              "  background-color: var(--sklearn-color-fitted-level-2);\n",
              "}\n",
              "\n",
              "/* Specification for estimator info (e.g. \"i\" and \"?\") */\n",
              "\n",
              "/* Common style for \"i\" and \"?\" */\n",
              "\n",
              ".sk-estimator-doc-link,\n",
              "a:link.sk-estimator-doc-link,\n",
              "a:visited.sk-estimator-doc-link {\n",
              "  float: right;\n",
              "  font-size: smaller;\n",
              "  line-height: 1em;\n",
              "  font-family: monospace;\n",
              "  background-color: var(--sklearn-color-background);\n",
              "  border-radius: 1em;\n",
              "  height: 1em;\n",
              "  width: 1em;\n",
              "  text-decoration: none !important;\n",
              "  margin-left: 0.5em;\n",
              "  text-align: center;\n",
              "  /* unfitted */\n",
              "  border: var(--sklearn-color-unfitted-level-1) 1pt solid;\n",
              "  color: var(--sklearn-color-unfitted-level-1);\n",
              "}\n",
              "\n",
              ".sk-estimator-doc-link.fitted,\n",
              "a:link.sk-estimator-doc-link.fitted,\n",
              "a:visited.sk-estimator-doc-link.fitted {\n",
              "  /* fitted */\n",
              "  border: var(--sklearn-color-fitted-level-1) 1pt solid;\n",
              "  color: var(--sklearn-color-fitted-level-1);\n",
              "}\n",
              "\n",
              "/* On hover */\n",
              "div.sk-estimator:hover .sk-estimator-doc-link:hover,\n",
              ".sk-estimator-doc-link:hover,\n",
              "div.sk-label-container:hover .sk-estimator-doc-link:hover,\n",
              ".sk-estimator-doc-link:hover {\n",
              "  /* unfitted */\n",
              "  background-color: var(--sklearn-color-unfitted-level-3);\n",
              "  color: var(--sklearn-color-background);\n",
              "  text-decoration: none;\n",
              "}\n",
              "\n",
              "div.sk-estimator.fitted:hover .sk-estimator-doc-link.fitted:hover,\n",
              ".sk-estimator-doc-link.fitted:hover,\n",
              "div.sk-label-container:hover .sk-estimator-doc-link.fitted:hover,\n",
              ".sk-estimator-doc-link.fitted:hover {\n",
              "  /* fitted */\n",
              "  background-color: var(--sklearn-color-fitted-level-3);\n",
              "  color: var(--sklearn-color-background);\n",
              "  text-decoration: none;\n",
              "}\n",
              "\n",
              "/* Span, style for the box shown on hovering the info icon */\n",
              ".sk-estimator-doc-link span {\n",
              "  display: none;\n",
              "  z-index: 9999;\n",
              "  position: relative;\n",
              "  font-weight: normal;\n",
              "  right: .2ex;\n",
              "  padding: .5ex;\n",
              "  margin: .5ex;\n",
              "  width: min-content;\n",
              "  min-width: 20ex;\n",
              "  max-width: 50ex;\n",
              "  color: var(--sklearn-color-text);\n",
              "  box-shadow: 2pt 2pt 4pt #999;\n",
              "  /* unfitted */\n",
              "  background: var(--sklearn-color-unfitted-level-0);\n",
              "  border: .5pt solid var(--sklearn-color-unfitted-level-3);\n",
              "}\n",
              "\n",
              ".sk-estimator-doc-link.fitted span {\n",
              "  /* fitted */\n",
              "  background: var(--sklearn-color-fitted-level-0);\n",
              "  border: var(--sklearn-color-fitted-level-3);\n",
              "}\n",
              "\n",
              ".sk-estimator-doc-link:hover span {\n",
              "  display: block;\n",
              "}\n",
              "\n",
              "/* \"?\"-specific style due to the `<a>` HTML tag */\n",
              "\n",
              "#sk-container-id-1 a.estimator_doc_link {\n",
              "  float: right;\n",
              "  font-size: 1rem;\n",
              "  line-height: 1em;\n",
              "  font-family: monospace;\n",
              "  background-color: var(--sklearn-color-background);\n",
              "  border-radius: 1rem;\n",
              "  height: 1rem;\n",
              "  width: 1rem;\n",
              "  text-decoration: none;\n",
              "  /* unfitted */\n",
              "  color: var(--sklearn-color-unfitted-level-1);\n",
              "  border: var(--sklearn-color-unfitted-level-1) 1pt solid;\n",
              "}\n",
              "\n",
              "#sk-container-id-1 a.estimator_doc_link.fitted {\n",
              "  /* fitted */\n",
              "  border: var(--sklearn-color-fitted-level-1) 1pt solid;\n",
              "  color: var(--sklearn-color-fitted-level-1);\n",
              "}\n",
              "\n",
              "/* On hover */\n",
              "#sk-container-id-1 a.estimator_doc_link:hover {\n",
              "  /* unfitted */\n",
              "  background-color: var(--sklearn-color-unfitted-level-3);\n",
              "  color: var(--sklearn-color-background);\n",
              "  text-decoration: none;\n",
              "}\n",
              "\n",
              "#sk-container-id-1 a.estimator_doc_link.fitted:hover {\n",
              "  /* fitted */\n",
              "  background-color: var(--sklearn-color-fitted-level-3);\n",
              "}\n",
              "</style><div id=\"sk-container-id-1\" class=\"sk-top-container\"><div class=\"sk-text-repr-fallback\"><pre>RandomForestClassifier(class_weight=&#x27;balanced&#x27;, random_state=42)</pre><b>In a Jupyter environment, please rerun this cell to show the HTML representation or trust the notebook. <br />On GitHub, the HTML representation is unable to render, please try loading this page with nbviewer.org.</b></div><div class=\"sk-container\" hidden><div class=\"sk-item\"><div class=\"sk-estimator fitted sk-toggleable\"><input class=\"sk-toggleable__control sk-hidden--visually\" id=\"sk-estimator-id-1\" type=\"checkbox\" checked><label for=\"sk-estimator-id-1\" class=\"sk-toggleable__label fitted sk-toggleable__label-arrow\"><div><div>RandomForestClassifier</div></div><div><a class=\"sk-estimator-doc-link fitted\" rel=\"noreferrer\" target=\"_blank\" href=\"https://scikit-learn.org/1.6/modules/generated/sklearn.ensemble.RandomForestClassifier.html\">?<span>Documentation for RandomForestClassifier</span></a><span class=\"sk-estimator-doc-link fitted\">i<span>Fitted</span></span></div></label><div class=\"sk-toggleable__content fitted\"><pre>RandomForestClassifier(class_weight=&#x27;balanced&#x27;, random_state=42)</pre></div> </div></div></div></div>"
            ]
          },
          "metadata": {},
          "execution_count": 9
        }
      ]
    },
    {
      "cell_type": "markdown",
      "source": [
        "# 10. Evaluation"
      ],
      "metadata": {
        "id": "4goqOvM06yc_"
      }
    },
    {
      "cell_type": "markdown",
      "source": [
        "This section summarizes key findings, including which model performs better and the implications for maternal health risk prediction. It also mentions limitations and potential future improvements.\n"
      ],
      "metadata": {
        "id": "C6OCM5A5C0Ly"
      }
    },
    {
      "cell_type": "code",
      "source": [
        "test_preds = rf_model.predict(embeddings[test_idx_all])\n",
        "acc = accuracy_score(labels[test_idx_all].numpy(), test_preds)\n",
        "auc = roc_auc_score(labels[test_idx_all].numpy(), rf_model.predict_proba(embeddings[test_idx_all])[:, 1])\n",
        "print(f\"GraphSAGE + Random Forest Accuracy: {acc:.4f}, AUC: {auc:.4f}\")\n",
        "print(classification_report(labels[test_idx_all].numpy(), test_preds))\n"
      ],
      "metadata": {
        "colab": {
          "base_uri": "https://localhost:8080/"
        },
        "id": "3hZ1wxAc60VB",
        "outputId": "c960974a-a0be-4829-e634-a655ba4fb7bf"
      },
      "execution_count": 10,
      "outputs": [
        {
          "output_type": "stream",
          "name": "stdout",
          "text": [
            "GraphSAGE + Random Forest Accuracy: 0.9293, AUC: 0.9780\n",
            "              precision    recall  f1-score   support\n",
            "\n",
            "         0.0       0.97      0.94      0.96       228\n",
            "         1.0       0.79      0.87      0.83        55\n",
            "\n",
            "    accuracy                           0.93       283\n",
            "   macro avg       0.88      0.91      0.89       283\n",
            "weighted avg       0.93      0.93      0.93       283\n",
            "\n"
          ]
        }
      ]
    },
    {
      "cell_type": "markdown",
      "source": [
        "# 11. Visualizations"
      ],
      "metadata": {
        "id": "bS3wEHKp62OW"
      }
    },
    {
      "cell_type": "code",
      "source": [
        "# SHAP explanations\n",
        "explainer = shap.TreeExplainer(rf_model)\n",
        "shap_values = explainer.shap_values(embeddings[test_idx_all])\n",
        "shap.summary_plot(shap_values, embeddings[test_idx_all], feature_names=[f'emb_{i}' for i in range(embeddings.shape[1])])\n",
        "\n",
        "# t-SNE visualization\n",
        "tsne = TSNE(n_components=2, random_state=42)\n",
        "embed_2d = tsne.fit_transform(embeddings[test_idx_all])\n",
        "plt.scatter(embed_2d[:, 0], embed_2d[:, 1], c=labels[test_idx_all].numpy(), cmap='viridis')\n",
        "plt.colorbar(label='Target (1=High Risk)')\n",
        "plt.title('t-SNE Visualization of GraphSAGE Embeddings')\n",
        "plt.show()\n"
      ],
      "metadata": {
        "colab": {
          "base_uri": "https://localhost:8080/",
          "height": 1000
        },
        "id": "1Q7wANgh64a_",
        "outputId": "40afe9eb-ec29-4c7b-b4f8-743454023376"
      },
      "execution_count": 11,
      "outputs": [
        {
          "output_type": "display_data",
          "data": {
            "text/plain": [
              "<Figure size 1150x660 with 2 Axes>"
            ],
            "image/png": "[encoded data removed]"
          },
          "metadata": {}
        },
        {
          "output_type": "display_data",
          "data": {
            "text/plain": [
              "<Figure size 640x480 with 2 Axes>"
            ],
            "image/png": "[encoded data removed]"
          },
          "metadata": {}
        }
      ]
    }
  ]
}